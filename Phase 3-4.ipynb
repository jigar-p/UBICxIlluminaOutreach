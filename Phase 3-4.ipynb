#tests of lists
print 'hello'
