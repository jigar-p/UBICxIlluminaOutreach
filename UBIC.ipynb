{
 "cells": [
  {
   "cell_type": "markdown",
   "metadata": {},
   "source": [
    "# Lesson 1: Arithmetic Operators"
   ]
  },
  {
   "cell_type": "markdown",
   "metadata": {},
   "source": [
    "It is very easy to do simple math in Python using +, -, *, /, %, and **. These are called arithmetic operators. They can be used to do addition, subtraction, multiplication, division, modulus(get the remainder), and exponents easily.\n",
    "\n",
    "Take the following example, which calculates profit by subtracting expenses from revenue.\n",
    "\n",
    "Example 1:"
   ]
  },
  {
   "cell_type": "code",
   "execution_count": null,
   "metadata": {
    "collapsed": true
   },
   "outputs": [],
   "source": [
    "\n",
    "expenses = 100\n",
    "revenue = 250\n",
    "\n",
    "profit = revenue - expenses\n",
    "print profit"
   ]
  },
  {
   "cell_type": "markdown",
   "metadata": {},
   "source": [
    "Now try to calculate sales tax by multiplying cost by the tax rate, and print the output.\n",
    "\n",
    "Example 2:"
   ]
  },
  {
   "cell_type": "code",
   "execution_count": null,
   "metadata": {
    "collapsed": true
   },
   "outputs": [],
   "source": [
    "cost = 30\n",
    "tax_rate = 0.08\n",
    "\n",
    "#write code here"
   ]
  },
  {
   "cell_type": "markdown",
   "metadata": {},
   "source": [
    "(The output should have been 2.4)\n",
    "\n",
    "The modulus operator gives the remainder of a division operation. For example, 88 % 11 is 0, because 88 divided by 11 is 8 remainder 0. On the other hand, 89 % 11 is 1, because 89 divided by 11 is 8 remainder 1.\n",
    "\n",
    "Example 3:"
   ]
  },
  {
   "cell_type": "code",
   "execution_count": null,
   "metadata": {
    "collapsed": true
   },
   "outputs": [],
   "source": [
    "answer = 84 % 10\n",
    "print answer"
   ]
  },
  {
   "cell_type": "markdown",
   "metadata": {},
   "source": [
    "# Lesson 2: Relational Operators"
   ]
  },
  {
   "cell_type": "markdown",
   "metadata": {},
   "source": [
    "Another groups of operators are known as (bold) relational (bold) or comparison operators. There are six relational operators. \n",
    "These are < (less than), > (greater than), <= (less than or equal to), >= (greater than or equal to), == (equal to), and != (not equal to).\n",
    "\n",
    "These operators are commonly used in if statements. \n",
    "\n",
    "Example 1:"
   ]
  },
  {
   "cell_type": "code",
   "execution_count": null,
   "metadata": {
    "collapsed": true
   },
   "outputs": [],
   "source": [
    "a = 3\n",
    "if a > 0:\n",
    "    print (\"a is greater than 0\")"
   ]
  },
  {
   "cell_type": "markdown",
   "metadata": {},
   "source": [
    "Example 2:"
   ]
  },
  {
   "cell_type": "code",
   "execution_count": null,
   "metadata": {
    "collapsed": true
   },
   "outputs": [],
   "source": [
    "a = 3\n",
    "if a < 0:\n",
    "    print (\"a is less than 0\")"
   ]
  },
  {
   "cell_type": "markdown",
   "metadata": {},
   "source": [
    "As you can see, in the first example, Python printed \"a is greater than 0\" because we set a equal to 3 which is greater than 0. When the if statement is true, anything indented underneath the if statement will be executed. \n",
    "\n",
    "In the second example, the if-statement was not true and so the print statement was not executed.\n",
    "\n",
    "Try writing your own if statement that prints \"b is less than or equal to 5\" if b is less than or equal to 5. (Hint: remember that <= is the operator to check for less than or equal to)\n",
    "\n",
    "Example 3:"
   ]
  },
  {
   "cell_type": "code",
   "execution_count": null,
   "metadata": {
    "collapsed": true
   },
   "outputs": [],
   "source": [
    "b = 4\n",
    "#write your code here"
   ]
  },
  {
   "cell_type": "markdown",
   "metadata": {},
   "source": [
    "If your code printed \"b is less than or equal to 5\", you are good to move on! \n",
    "\n",
    "We can combine the first and second examples using what is known as an if-elif statement. When the if-statement is true, anything indented underneath it will be executed, but if the if-statement is not true, the elif (stands for else-if) statement will be checked. If the elif statement is true, anything indented underneath it will be executed.\n",
    "\n",
    "Example 4:"
   ]
  },
  {
   "cell_type": "code",
   "execution_count": null,
   "metadata": {
    "collapsed": true
   },
   "outputs": [],
   "source": [
    "a = 3\n",
    "if a > 0: \n",
    "    print (\"a is greater than 0\")\n",
    "elif a < 0: \n",
    "    print (\"a is less than 0)\n"
   ]
  },
  {
   "cell_type": "markdown",
   "metadata": {},
   "source": [
    "Another version of the if statement is the if-else statement. When the if statement is not true, anything indented underneath the else statement will be executed.\n",
    "\n",
    "Example 5:"
   ]
  },
  {
   "cell_type": "code",
   "execution_count": null,
   "metadata": {
    "collapsed": true
   },
   "outputs": [],
   "source": [
    "a = 3\n",
    "if a > 0: \n",
    "    print (\"a is greater than 0\")\n",
    "else:\n",
    "    print (\"a is not greater than 0\")"
   ]
  },
  {
   "cell_type": "markdown",
   "metadata": {},
   "source": [
    "Now let's combine the all three of these - if, elif, and else- into one block of code.\n",
    "\n",
    "Example 6:"
   ]
  },
  {
   "cell_type": "code",
   "execution_count": null,
   "metadata": {
    "collapsed": true
   },
   "outputs": [],
   "source": [
    "a = 3\n",
    "if a > 0:\n",
    "    print (\"a is greater than 0\")\n",
    "elif a < 0:\n",
    "    print (\"a is less than 0\")\n",
    "else: \n",
    "    print (\"a is equal to 0\")"
   ]
  },
  {
   "cell_type": "markdown",
   "metadata": {},
   "source": [
    "What happens when you change the value of a in the block of code above to be neggative? What happens when you change the value a to be 0? check that the appropriate statements are printed out. If you understand how if/elif/else work, you are good to move on!\n",
    "\n",
    "Relational operators can be used to compare strings and booleans as well. \n",
    "\n",
    "Example 7:"
   ]
  },
  {
   "cell_type": "code",
   "execution_count": null,
   "metadata": {
    "collapsed": true
   },
   "outputs": [],
   "source": [
    "name = Jane\n",
    "if name == John:\n",
    "    print (\"Hello John!\")\n",
    "elif name == Jane:\n",
    "    print (\"Hello Jane!\")"
   ]
  },
  {
   "cell_type": "markdown",
   "metadata": {},
   "source": [
    "Note that the operator used to compare if two variables are equal is == and (bold) not (bold) =. This is another example of Python syntax which often gets confused. = is the assignment operator used to set name equal to Jane, and == is the relational operator used to check if name is equal to Jane. Writing if name = Jane instead of if name == Jane will lead to a syntax error.\n",
    "\n",
    "Importance of indentation in if statements:\n",
    "\n",
    "Like all of Python syntax, indenting correctly is a key part of making the code work properly. This is especially necessary when it comes to if statements. Try running the following code:\n",
    "\n",
    "Example 8:"
   ]
  },
  {
   "cell_type": "code",
   "execution_count": null,
   "metadata": {
    "collapsed": true
   },
   "outputs": [],
   "source": [
    "a = 3\n",
    "if a > 0:\n",
    "    print (\"a is greater than 0\")\n",
    "else:\n",
    "    print (\"a is not greater than 0\")\n",
    "print (\"This is outside the if statement block and always gets executed\")"
   ]
  },
  {
   "cell_type": "markdown",
   "metadata": {},
   "source": [
    "As you can see, anything that is not indented is not considered part of the if statement, and will be executed as normal. This can be very useful, but can also cause problems if one forgets to indent correctly, so be careful to always indent anything that should be executed as part of the if statement!\n",
    "\n",
    "Now try writing code that checks if the user's name is equal to Mary, Max, or Melissa. If so, print \"Hello [their name]!\" in the same format as Example 7. (E.g. \"Hello Mary!\" for Mary.) If not, simply print \"Hello!\" Either way, print \"Welcome to Disneyland!\" on the next line.\n",
    "\n",
    "Example 9:"
   ]
  },
  {
   "cell_type": "code",
   "execution_count": null,
   "metadata": {
    "collapsed": true
   },
   "outputs": [],
   "source": [
    "name = Mary\n",
    "#write code here"
   ]
  },
  {
   "cell_type": "markdown",
   "metadata": {},
   "source": [
    "# Lesson 3: Lists and Loops"
   ]
  },
  {
   "cell_type": "markdown",
   "metadata": {},
   "source": [
    "Lists are a great way to store a collection of things. Lets take a look at the example of a list below.\n",
    "\n",
    "Example 1:"
   ]
  },
  {
   "cell_type": "code",
   "execution_count": null,
   "metadata": {
    "collapsed": true
   },
   "outputs": [],
   "source": [
    "GroceryList = [\"Eggs\",\"Bacon\",\"Chocolate Sauce\"]"
   ]
  },
  {
   "cell_type": "markdown",
   "metadata": {},
   "source": [
    "As you can see lists can be defined by putting the items of the list inbetween [] seperated by commas. \n",
    "\n",
    "Lets take a look at how we can get specific items of a list in the following example\n",
    "\n",
    "Example 2:"
   ]
  },
  {
   "cell_type": "code",
   "execution_count": null,
   "metadata": {
    "collapsed": true
   },
   "outputs": [],
   "source": [
    "GroceryList = [\"Eggs\",\"Bacon\",\"Chocolate Sauce\"]\n",
    "\n",
    "print(GroceryList [1])"
   ]
  },
  {
   "cell_type": "markdown",
   "metadata": {},
   "source": [
    "As you can see, an item of a list can be retrieved by stating the index of the item in [] after the list name. But why did the code print \"Bacon\" instead of \"Eggs\"? List index start at 0 which means that the index of the items in the GroceryList are actual 0:\"Eggs\", 1:\"Bacon\", 2:\"Chocolate Sauce\". THIS IS IMPORTANT!!! This means to get the third item in the list you must use GroceryList[2]. If you use GroceryList[3] you will get an index out of bounds error. Run the following code to see how list index work.\n",
    "\n",
    "Example3:"
   ]
  },
  {
   "cell_type": "code",
   "execution_count": null,
   "metadata": {
    "collapsed": true
   },
   "outputs": [],
   "source": [
    "print (\"Index 0:\" + GroceryList[0])\n",
    "print (\"Index 1:\" + GroceryList[1])\n",
    "print (\"Index 2:\" + GroceryList[2])"
   ]
  },
  {
   "cell_type": "markdown",
   "metadata": {},
   "source": [
    "Now you may want to do something with each element of a list and as you can see from the example above, rewriting the same line of code for each item in the list can get pretty tiring. Luckily we can easily iterate through the list using a for-loop.\n",
    "\n",
    "Example 4:"
   ]
  },
  {
   "cell_type": "code",
   "execution_count": null,
   "metadata": {
    "collapsed": true
   },
   "outputs": [],
   "source": [
    "index = 0\n",
    "for item in GroceryList:\n",
    "    print (\"Index \" + str(index) + \" \"+ item)\n",
    "    index = index + 1"
   ]
  },
  {
   "cell_type": "markdown",
   "metadata": {},
   "source": [
    "In a for loop you execute the code indented after the for loop for each item in a given list. \n",
    "The general format of a for loop is as follows:\n",
    "\n",
    "for x in list:\n",
    "    do thing\n",
    "    do thing to x\n",
    "\n",
    "Now lets see if you can apply what you have learned to find the maximum exam score in a list of exam scores AND the index of the maximum score. Read the comments in the code to help you finish it.\n",
    "\n",
    "Example 5:"
   ]
  },
  {
   "cell_type": "code",
   "execution_count": null,
   "metadata": {
    "collapsed": true
   },
   "outputs": [],
   "source": [
    "examScores = [97,75,62,89,97,74,84]\n",
    "\n",
    "maxScore = 0\n",
    "indexOfMax = 0\n",
    "currentIndex = 0 #This will keep track of what index you are at in your for loop.\n",
    "\n",
    "#loop through each the exam scores\n",
    "for __ in __:\n",
    "\n",
    "    #check to see if you have found a greater exam score than your current highest exam score \n",
    "    if (__>__):\n",
    "        \n",
    "        #If you find a higher score what should maxScore be set to?\n",
    "        maxScore = __\n",
    "        indexOfMax = __\n",
    "        \n",
    "    currentIndex = currentIndex + 1\n",
    "\n",
    "print(maxScore)\n",
    "print(maxIndex)"
   ]
  },
  {
   "cell_type": "markdown",
   "metadata": {},
   "source": [
    "Hopefully you have a good understanding of how for loops work with lists. Before we move on lets look take a quick look at strings. We have used Strings in all of our print statements. As you have probably noticed by now they are defined with \"\". But did you know that you can iterate through strings the same way that you can iterate through loops? Run the code below to see how it works.\n",
    "\n",
    "Example 6:"
   ]
  },
  {
   "cell_type": "code",
   "execution_count": null,
   "metadata": {
    "collapsed": true
   },
   "outputs": [],
   "source": [
    "#This code counts the number of e's that appear in the message below.\n",
    "DNA = \"ACCCTGAGGACAGATG\"\n",
    "numGandC = 0\n",
    "\n",
    "for letter in message:\n",
    "    if (letter == \"G\"):\n",
    "        numGandC = numGandC + 1\n",
    "    elif (letter = \"C\"):\n",
    "        numGandC= numGandC + 1\n"
   ]
  },
  {
   "cell_type": "markdown",
   "metadata": {},
   "source": [
    "Now lets apply the skills that we just learned to see who killed old man Jenkins. Below we have a list of DNA sequences from the town and a DNA sample from the crime scene. Unfortunately this town is small and many people have similair sequences. \n",
    "\n",
    "How should we compare these sequences to the sample? A simple way that is being used in the real world is the Hamming Algorithm, this algorithm basically counts the number of nucleotides that are different in our sample and returns that value. When two samples come from the same subject, they will have a lower hamming value because they have more nucleotides in common. \n",
    "\n",
    "Implement this hamming algorithim returning the index and the score of the sequence with the best score. If your up for a challenge try to implement the algorithim from scratch! If you need some guidance scroll down for some guidance. \n",
    "\n",
    "(Quick Hint: You can have loops within loops) "
   ]
  },
  {
   "cell_type": "code",
   "execution_count": null,
   "metadata": {
    "collapsed": true
   },
   "outputs": [],
   "source": [
    "DNASample = \"TACACTAAGGAGCTTTATACCGTGCAGCGACCCA\"\n",
    "Suspects = [\"TACACTAAGGACCAGCTCTCCATAAGGTGCCGTG\",\"TACACTAAGCAGCTTTATACCGTCGAGCGACCCA\",\"TACACTAAGGAGCTTCGTACCGTGCGGCGACCCA\",\"TACACTAAGGAGCTTTATACCGTGCAGCGACCCA\",\"TACACTAAGGACGAGTTATACCGTGGAGCACCCA\",\"TACACTACAGGAGACTTATACGGTGCAGCACCCA\"]\n",
    "\n",
    "bestScore = 0\n",
    "indexOfBestScore = 0\n",
    "currentScore = 0\n",
    "currentNucleotide = 0 #index of nucleotide you are checking\n",
    "currentIndex = 0 #index of sequence you are checking\n",
    "\n",
    "#Good luck! There is help below if you need it.\n",
    "#If you are using the helper code paste it here\n",
    "\n",
    "\n",
    "\n",
    "\n",
    "print (\"Suspect \" + str(indexOfBestScore) + \" is the winner with a high score of \" + str(bestScore))\n"
   ]
  },
  {
   "cell_type": "markdown",
   "metadata": {},
   "source": [
    "Need more help? Scroll down for more help.\n",
    "\n",
    "\n",
    "Keep scrolling\n",
    "\n",
    "\n",
    "\n",
    "Keep scrolling\n",
    "\n",
    "\n",
    "\n",
    "Keep scrolling\n",
    "\n",
    "\n",
    "\n",
    "\n",
    "General Algorithim:\n",
    "\n",
    "Loop through the suspects and compare each nucleotide in their sequence to the DNA sample. If the nucleotides are the same increment the score. When you have compared all the nucleotides check if the best score is smaller than the current score and if it is update the best score and the index of the best score. Print the results.\n",
    "\n",
    "Need more help? Scroll down for more help.\n",
    "\n",
    "\n",
    "Keep scrolling\n",
    "\n",
    "\n",
    "\n",
    "Keep scrolling\n",
    "\n",
    "\n",
    "\n",
    "Keep scrolling\n",
    "\n",
    "\n",
    "\n",
    "Keep scrolling\n",
    "\n",
    "Copy, Paste, and Fill in The Blanks/ Helper Code\n",
    "\n",
    "for x in Suspects:\n",
    "    for __ in x:\n",
    "        if __ == __[currentNucleotide]:\n",
    "            #update currentScore\n",
    "        #increment currentNucleotide\n",
    "    if __>__:\n",
    "        #update bestScore\n",
    "        #update bestIndex\n",
    "    currentNucleotide = 0\n",
    "    currentScore = 0\n",
    "    #increment currentIndex\n"
   ]
  },
  {
   "cell_type": "markdown",
   "metadata": {},
   "source": [
    "Who killed old man Jenkins? Input the index you got from your algorithim to see who your suspect is and if it is correct!"
   ]
  },
  {
   "cell_type": "code",
   "execution_count": null,
   "metadata": {
    "collapsed": true
   },
   "outputs": [],
   "source": [
    "index = #insert your answer here\n",
    "\n",
    "def answerChecker (input):\n",
    "    suspects = {0:\"Billy\",1:\"Bob\",2:\"Bobby\",3:\"Billob\",4:\"Bobilly\"} \n",
    "\n",
    "    decoder = {\"A\":1, \"T\":2, \"C\":3, \"G\":4}\n",
    "    \n",
    "    secretSeq = \"ATGCAGCACGACTCACTCACACAATGCGAATAA\"\n",
    "    secretNum = 0\n",
    "\n",
    "    for i in secretSeq:\n",
    "        secretNum = decoder[i] + secretNum\n",
    "    \n",
    "    secretNum = secretNum + len(secretSeq) + 5\n",
    "    if (secretNum%12 == index):\n",
    "        print (\"You are Correct! \" + suspects[secretNum%12] + \" did do it!\")\n",
    "    else:\n",
    "        print (\"Sorry! Fix your code and try again.\")\n",
    "\n",
    "answerChecker(index)"
   ]
  },
  {
   "cell_type": "markdown",
   "metadata": {},
   "source": [
    "Congragulation on finding the culprit!\n",
    "\n",
    "If you are interested in learning more about python there are great tutorials on code academy for python and other languages. As you will see there are many things that we were not able to cover in this short tutorial. We hope that you have enjoyed this short coding tutorial and would love to hear your comments on how we could improve it in the link below.\n",
    "\n",
    "(insert google form)"
   ]
  }
 ],
 "metadata": {
  "kernelspec": {
   "display_name": "Python 3",
   "language": "python",
   "name": "python3"
  },
  "language_info": {
   "codemirror_mode": {
    "name": "ipython",
    "version": 3
   },
   "file_extension": ".py",
   "mimetype": "text/x-python",
   "name": "python",
   "nbconvert_exporter": "python",
   "pygments_lexer": "ipython3",
   "version": "3.6.0"
  }
 },
 "nbformat": 4,
 "nbformat_minor": 2
}
